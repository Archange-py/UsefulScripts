{
 "cells": [
  {
   "cell_type": "markdown",
   "metadata": {},
   "source": [
    "# Useful Fonctions"
   ]
  },
  {
   "cell_type": "code",
   "execution_count": 1,
   "metadata": {},
   "outputs": [],
   "source": [
    "from types import ModuleType, FunctionType\n",
    "\n",
    "from typing import Optional, Any\n",
    "\n",
    "from inspect import signature"
   ]
  },
  {
   "cell_type": "markdown",
   "metadata": {},
   "source": [
    "## Presentation of a module and its functions"
   ]
  },
  {
   "cell_type": "code",
   "execution_count": 2,
   "metadata": {},
   "outputs": [],
   "source": [
    "def GetAndFormateModule(module: str, /, verbose: bool = True) -> Optional[ModuleType]:\n",
    "    try:\n",
    "        module: ModuleType = __import__(module)\n",
    "\n",
    "    except ImportError:\n",
    "        print(f\"Module {module} not found in the current directory. Maybe you can use its global path.\")\n",
    "\n",
    "        return\n",
    "\n",
    "    if verbose:\n",
    "        not_private_objects: list[Any] = [\n",
    "            obj for obj in dir(module)\n",
    "            if not obj.startswith(('__', '_'))\n",
    "        ]\n",
    "\n",
    "        functions: list[FunctionType] = [\n",
    "            getattr(module, obj) for obj in not_private_objects\n",
    "            if type(getattr(module, obj)) is FunctionType\n",
    "        ]\n",
    "\n",
    "        signatures: str = \"\".join([\n",
    "            f\"(function) {func.__name__} • {str(signature(func))}\\n\\n{'' if func.__doc__ is None else '   ' + func.__doc__}\\n\"\n",
    "            for func in functions\n",
    "        ])\n",
    "\n",
    "        docstring: str = \"   \".join(module.__doc__.splitlines(True))\n",
    "\n",
    "        print(f\"Module '{module.__name__}' :\\n{docstring}\\n{signatures}\".replace('\\n\\n\\n', '\\n\\n'))\n",
    "\n",
    "    return module"
   ]
  },
  {
   "cell_type": "markdown",
   "metadata": {},
   "source": [
    "## Guess"
   ]
  },
  {
   "cell_type": "code",
   "execution_count": 3,
   "metadata": {},
   "outputs": [
    {
     "name": "stdout",
     "output_type": "stream",
     "text": [
      "Module 'guess' :\n",
      "\n",
      "   Python script of a function to guess the user's number with\n",
      "   a summary display of the search interval in the console.\n",
      "   \n",
      "   Group : Davoud, Mattéo, Vincent - NSI\n",
      "   \n",
      "   It's the final algorithm for the 'lower, higher' game.\n",
      "\n",
      "(function) guess • (increase: int = 2, /) -> int\n",
      "\n",
      "   This function allows you to guess a positive or negative integer as you\n",
      "    answer the input questions. It uses a single question: \"Indicate the position\n",
      "    of your number in relation to x.\" It then looks to see whether the number is\n",
      "    greater (1), less (-1), or equal (0) to x.\n",
      "\n",
      "    Args:\n",
      "        increase (int, optional): The number to be used as a starting point\n",
      "        for increasing the number of the second terminal. The milestone will\n",
      "        become powers of 2 successive 3, then 9, then 81, ... until the end of\n",
      "        the search interval is found. Defaults to 2.\n",
      "\n",
      "    Raises:\n",
      "        Exception: Causes an exception if the increase parameter is less than 2.\n",
      "\n",
      "    Returns:\n",
      "        int: Returns the number obtained after the search algorithm.\n",
      "    \n",
      "(function) show_interval • (first: str | int = '?', second: str | int = '?', line_char: str = '-', point_char: str = '^', empty_char: str = ' ', spacing_margin: int = 5, spacing_point: int = 15) -> str\n",
      "\n",
      "   Function for displaying a horizontal line containing two points\n",
      "    of an interval.\n",
      "\n",
      "    Args:\n",
      "        first (str | int, optional): The character(s) of the first bound of the interval. Defaults to '?'.\n",
      "        second (str | int, optional): The character(s) of the second bound of the interval. Defaults to '?'.\n",
      "        line_char (str, optional): The character representing the right. Defaults to '-'.\n",
      "        point_char (str, optional): The character representing the position of the points on the line. Defaults to '^'.\n",
      "        empty_char (str, optional): The character representing an empty space. Defaults to ' '.\n",
      "        spacing_margin (int, optional): Line spacing from -∞ to the first point,\n",
      "        and from the second point to +∞. Defaults to 5.\n",
      "        spacing_point (int, optional): Line spacing between the two points. Defaults to 15.\n",
      "\n",
      "    Returns:\n",
      "        str: Returns a character string spread over two lines, representing the two limits of the interval.\n",
      "    \n",
      "\n"
     ]
    }
   ],
   "source": [
    "guess: ModuleType = GetAndFormateModule('guess')"
   ]
  },
  {
   "cell_type": "code",
   "execution_count": 4,
   "metadata": {},
   "outputs": [
    {
     "name": "stdout",
     "output_type": "stream",
     "text": [
      "      -3               897     \n",
      "------^-----------------^------\n"
     ]
    }
   ],
   "source": [
    "print(guess.show_interval('-3', 897, line_char='-', point_char='^', empty_char=' ', spacing_margin=5, spacing_point=15))"
   ]
  },
  {
   "cell_type": "code",
   "execution_count": 5,
   "metadata": {},
   "outputs": [],
   "source": [
    "# guess(2)"
   ]
  },
  {
   "cell_type": "markdown",
   "metadata": {},
   "source": [
    "## Uppercase & Lowercase"
   ]
  },
  {
   "cell_type": "code",
   "execution_count": 6,
   "metadata": {},
   "outputs": [
    {
     "name": "stdout",
     "output_type": "stream",
     "text": [
      "Module 'uppercase_lowercase' :\n",
      "\n",
      "   Script resulting from a NSI exercise containing simple utility\n",
      "   functions for handling uppercase and lowercase strings.\n",
      "\n",
      "(function) is_lowercase • (*symbol: tuple[str], alone: bool = False) -> bool | tuple[bool]\n",
      "\n",
      "   Test whether a character or string of characters is lowercase.\n",
      "\n",
      "    Args:\n",
      "        *symbol (tuple[str]): A character or a string of characters to test.\n",
      "        alone (bool, optional): Returns a list of Booleans corresponding to the test for each character if enabled. Defaults to False.\n",
      "\n",
      "    Returns:\n",
      "        bool | tuple[bool]: Returns the test result as a Boolean.\n",
      "    \n",
      "(function) is_uppercase • (*symbol: tuple[str], alone: bool = False) -> bool | tuple[bool]\n",
      "\n",
      "   Test whether a character or string of characters is capitalized.\n",
      "\n",
      "    Args:\n",
      "        *symbol (tuple[str]): A character or a string of characters to test.\n",
      "        alone (bool, optional): Returns a list of Booleans corresponding to the test for each character if enabled. Defaults to False.\n",
      "\n",
      "    Returns:\n",
      "        bool | tuple[bool]: Returns the test result as a Boolean.\n",
      "    \n",
      "(function) lowercase • (string: str, /) -> str\n",
      "\n",
      "   Function that formats a character string so that all possible characters are lowercase.\n",
      "\n",
      "    Args:\n",
      "        string (str): The input character string.\n",
      "\n",
      "    Returns:\n",
      "        str: Returns the formatted character string.\n",
      "    \n",
      "(function) uppercase • (string: str, /) -> str\n",
      "\n",
      "   Function that formats a character string so that all possible characters are capitalized.\n",
      "\n",
      "    Args:\n",
      "        string (str): The input character string.\n",
      "\n",
      "    Returns:\n",
      "        str: Returns the formatted character string.\n",
      "    \n",
      "\n"
     ]
    }
   ],
   "source": [
    "upper_lower_case: ModuleType = GetAndFormateModule('uppercase_lowercase')"
   ]
  },
  {
   "cell_type": "markdown",
   "metadata": {},
   "source": [
    "### Is Uppercase & Lowercase"
   ]
  },
  {
   "cell_type": "code",
   "execution_count": 7,
   "metadata": {},
   "outputs": [
    {
     "data": {
      "text/plain": [
       "True"
      ]
     },
     "execution_count": 7,
     "metadata": {},
     "output_type": "execute_result"
    }
   ],
   "source": [
    "upper_lower_case.is_lowercase('a')"
   ]
  },
  {
   "cell_type": "code",
   "execution_count": 8,
   "metadata": {},
   "outputs": [
    {
     "data": {
      "text/plain": [
       "False"
      ]
     },
     "execution_count": 8,
     "metadata": {},
     "output_type": "execute_result"
    }
   ],
   "source": [
    "upper_lower_case.is_lowercase('a', 'z', '!', 'W')"
   ]
  },
  {
   "cell_type": "code",
   "execution_count": 9,
   "metadata": {},
   "outputs": [
    {
     "data": {
      "text/plain": [
       "[True, True, False, False]"
      ]
     },
     "execution_count": 9,
     "metadata": {},
     "output_type": "execute_result"
    }
   ],
   "source": [
    "upper_lower_case.is_lowercase('a', 'z', '!', 'W', alone=1)"
   ]
  },
  {
   "cell_type": "code",
   "execution_count": 10,
   "metadata": {},
   "outputs": [
    {
     "data": {
      "text/plain": [
       "True"
      ]
     },
     "execution_count": 10,
     "metadata": {},
     "output_type": "execute_result"
    }
   ],
   "source": [
    "upper_lower_case.is_uppercase('A')"
   ]
  },
  {
   "cell_type": "code",
   "execution_count": 11,
   "metadata": {},
   "outputs": [
    {
     "data": {
      "text/plain": [
       "False"
      ]
     },
     "execution_count": 11,
     "metadata": {},
     "output_type": "execute_result"
    }
   ],
   "source": [
    "upper_lower_case.is_uppercase('A', 'Z', '!', 'a')"
   ]
  },
  {
   "cell_type": "code",
   "execution_count": 12,
   "metadata": {},
   "outputs": [
    {
     "data": {
      "text/plain": [
       "[True, True, False, False]"
      ]
     },
     "execution_count": 12,
     "metadata": {},
     "output_type": "execute_result"
    }
   ],
   "source": [
    "upper_lower_case.is_uppercase('A', 'Z', '!', 'a', alone=1)"
   ]
  },
  {
   "cell_type": "markdown",
   "metadata": {},
   "source": [
    "### Uppercase & Lowercase"
   ]
  },
  {
   "cell_type": "code",
   "execution_count": 13,
   "metadata": {},
   "outputs": [],
   "source": [
    "word = \"Hello Word!\""
   ]
  },
  {
   "cell_type": "code",
   "execution_count": 14,
   "metadata": {},
   "outputs": [
    {
     "data": {
      "text/plain": [
       "'HELLO WORD!'"
      ]
     },
     "execution_count": 14,
     "metadata": {},
     "output_type": "execute_result"
    }
   ],
   "source": [
    "upper_lower_case.uppercase(word)"
   ]
  },
  {
   "cell_type": "code",
   "execution_count": 15,
   "metadata": {},
   "outputs": [
    {
     "data": {
      "text/plain": [
       "'hello word!'"
      ]
     },
     "execution_count": 15,
     "metadata": {},
     "output_type": "execute_result"
    }
   ],
   "source": [
    "upper_lower_case.lowercase(word)"
   ]
  },
  {
   "cell_type": "markdown",
   "metadata": {},
   "source": [
    "## Perfect Word"
   ]
  },
  {
   "cell_type": "code",
   "execution_count": 16,
   "metadata": {},
   "outputs": [
    {
     "name": "stdout",
     "output_type": "stream",
     "text": [
      "Module 'perfect_word' :\n",
      "\n",
      "   A small script resulting from a NSI exercise about perfect word.\n",
      "\n",
      "(function) is_perfect • (string: str, /) -> tuple[int, int, bool]\n",
      "\n",
      "   Consider the following two tables:\n",
      "    {'a': 1, 'b': 2, 'c': 3, ..., 'z': 26} and {'A': 1, 'B': 2, 'C': 3, ..., 'Z': 26}\n",
      "\n",
      "    For a given word (a string of non-empty characters consisting only of uppercase letters), we determine :\n",
      "    - on the one hand, its concatenated alphabetic code, obtained by juxtaposing\n",
      "    the text of the codes of each of its characters, and read as a single integer\n",
      "    - and on the other hand, its summed code, which is the sum of the codes of each of its characters.\n",
      "\n",
      "    This word is said to be “perfect” if the summed code divides the concatenated code.\n",
      "\n",
      "    Args:\n",
      "        string (str): The input character string.\n",
      "\n",
      "    Returns:\n",
      "        tuple[int, int, bool]: Returns a tuple containing its sum, its concatenated sum,\n",
      "        and the test result respectively.\n",
      "    \n",
      "\n"
     ]
    }
   ],
   "source": [
    "perfect_word: ModuleType = GetAndFormateModule('perfect_word')"
   ]
  },
  {
   "cell_type": "code",
   "execution_count": 17,
   "metadata": {},
   "outputs": [
    {
     "data": {
      "text/plain": [
       "(50, 1612112, False)"
      ]
     },
     "execution_count": 17,
     "metadata": {},
     "output_type": "execute_result"
    }
   ],
   "source": [
    "perfect_word.is_perfect(\"PAUL\")"
   ]
  },
  {
   "cell_type": "code",
   "execution_count": 18,
   "metadata": {},
   "outputs": [
    {
     "data": {
      "text/plain": [
       "(37, 1121914, True)"
      ]
     },
     "execution_count": 18,
     "metadata": {},
     "output_type": "execute_result"
    }
   ],
   "source": [
    "perfect_word.is_perfect(\"ALAIN\")"
   ]
  }
 ],
 "metadata": {
  "kernelspec": {
   "display_name": "Python 3",
   "language": "python",
   "name": "python3"
  },
  "language_info": {
   "codemirror_mode": {
    "name": "ipython",
    "version": 3
   },
   "file_extension": ".py",
   "mimetype": "text/x-python",
   "name": "python",
   "nbconvert_exporter": "python",
   "pygments_lexer": "ipython3",
   "version": "3.12.4"
  }
 },
 "nbformat": 4,
 "nbformat_minor": 2
}

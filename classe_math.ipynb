{
 "cells": [
  {
   "cell_type": "markdown",
   "metadata": {},
   "source": [
    "# Multiple"
   ]
  },
  {
   "cell_type": "code",
   "execution_count": 4,
   "metadata": {},
   "outputs": [],
   "source": [
    "class Multiple(list):\n",
    "    def __init__(self, n):\n",
    "        self.n = n\n",
    "        self.multiples = [i for i in range(1, n+1) if n % i == 0]\n",
    "        super().__init__(self.multiples)\n",
    "    \n",
    "    def __iter__(self):\n",
    "        return super().__iter__()\n",
    "    \n",
    "    def __contains__(self, __key: object) -> bool:\n",
    "        return super().__contains__(__key)\n",
    "    \n",
    "    def __getitem__(self, ij):\n",
    "        if isinstance(ij, int):\n",
    "            try: return self.multiples[ij]\n",
    "            except IndexError: raise IndexError\n",
    "        elif isinstance(ij, slice):\n",
    "            ind = ij.indices(len(self))\n",
    "            ind = slice(ind[0], ind[1], ind[2])\n",
    "            return self.multiples[ind]"
   ]
  },
  {
   "cell_type": "code",
   "execution_count": 5,
   "metadata": {},
   "outputs": [
    {
     "data": {
      "text/plain": [
       "[1, 2, 4, 5, 10, 20]"
      ]
     },
     "execution_count": 5,
     "metadata": {},
     "output_type": "execute_result"
    }
   ],
   "source": [
    "Multiple(20)"
   ]
  },
  {
   "cell_type": "code",
   "execution_count": 6,
   "metadata": {},
   "outputs": [
    {
     "name": "stdout",
     "output_type": "stream",
     "text": [
      "1 2 4 5 10 20 "
     ]
    }
   ],
   "source": [
    "for i in Multiple(20): print(i, end=' ')"
   ]
  },
  {
   "cell_type": "code",
   "execution_count": 7,
   "metadata": {},
   "outputs": [
    {
     "data": {
      "text/plain": [
       "True"
      ]
     },
     "execution_count": 7,
     "metadata": {},
     "output_type": "execute_result"
    }
   ],
   "source": [
    "5 in Multiple(20)"
   ]
  },
  {
   "cell_type": "code",
   "execution_count": 8,
   "metadata": {},
   "outputs": [
    {
     "name": "stdout",
     "output_type": "stream",
     "text": [
      "1 2 4 5 10 20 "
     ]
    }
   ],
   "source": [
    "mul = Multiple(20)\n",
    "for i in range(len(mul)): print(mul[i], end=' ')"
   ]
  },
  {
   "cell_type": "code",
   "execution_count": 9,
   "metadata": {},
   "outputs": [
    {
     "data": {
      "text/plain": [
       "[1, 2, 4]"
      ]
     },
     "execution_count": 9,
     "metadata": {},
     "output_type": "execute_result"
    }
   ],
   "source": [
    "mul[0:3:1]"
   ]
  },
  {
   "cell_type": "markdown",
   "metadata": {},
   "source": [
    "# Premier"
   ]
  },
  {
   "cell_type": "code",
   "execution_count": 10,
   "metadata": {},
   "outputs": [],
   "source": [
    "class Premier(list):\n",
    "    def __init__(self, n):\n",
    "        self.n = n\n",
    "        self.premiers = [i for i in range(2, n+1) if len(Multiple(i)) == 2]\n",
    "        super().__init__(self.premiers)\n",
    "    \n",
    "    def __iter__(self):\n",
    "        return super().__iter__()\n",
    "    \n",
    "    def __contains__(self, __key: object) -> bool:\n",
    "        return super().__contains__(__key)\n",
    "\n",
    "    def __getitem__(self, ij):\n",
    "        if isinstance(ij, int):\n",
    "            try: return self.premiers[ij]\n",
    "            except IndexError: raise IndexError\n",
    "        elif isinstance(ij, slice):\n",
    "            ind = ij.indices(len(self))\n",
    "            ind = slice(ind[0], ind[1], ind[2])\n",
    "            return self.premiers[ind]"
   ]
  },
  {
   "cell_type": "code",
   "execution_count": 11,
   "metadata": {},
   "outputs": [
    {
     "data": {
      "text/plain": [
       "[2, 3, 5, 7, 11, 13, 17, 19]"
      ]
     },
     "execution_count": 11,
     "metadata": {},
     "output_type": "execute_result"
    }
   ],
   "source": [
    "Premier(20)"
   ]
  },
  {
   "cell_type": "code",
   "execution_count": 12,
   "metadata": {},
   "outputs": [
    {
     "name": "stdout",
     "output_type": "stream",
     "text": [
      "2 3 5 7 11 13 17 19 "
     ]
    }
   ],
   "source": [
    "for i in Premier(20): print(i, end=' ')"
   ]
  },
  {
   "cell_type": "code",
   "execution_count": 13,
   "metadata": {},
   "outputs": [
    {
     "data": {
      "text/plain": [
       "True"
      ]
     },
     "execution_count": 13,
     "metadata": {},
     "output_type": "execute_result"
    }
   ],
   "source": [
    "5 in Premier(20)"
   ]
  },
  {
   "cell_type": "code",
   "execution_count": 14,
   "metadata": {},
   "outputs": [
    {
     "name": "stdout",
     "output_type": "stream",
     "text": [
      "2 3 5 7 11 13 17 19 "
     ]
    }
   ],
   "source": [
    "prem = Premier(20)\n",
    "for i in range(len(prem)): print(prem[i], end=' ')"
   ]
  },
  {
   "cell_type": "code",
   "execution_count": 15,
   "metadata": {},
   "outputs": [
    {
     "data": {
      "text/plain": [
       "[2, 3, 5]"
      ]
     },
     "execution_count": 15,
     "metadata": {},
     "output_type": "execute_result"
    }
   ],
   "source": [
    "prem[0:3:1]"
   ]
  }
 ],
 "metadata": {
  "kernelspec": {
   "display_name": "Python 3",
   "language": "python",
   "name": "python3"
  },
  "language_info": {
   "codemirror_mode": {
    "name": "ipython",
    "version": 3
   },
   "file_extension": ".py",
   "mimetype": "text/x-python",
   "name": "python",
   "nbconvert_exporter": "python",
   "pygments_lexer": "ipython3",
   "version": "3.11.5"
  }
 },
 "nbformat": 4,
 "nbformat_minor": 2
}
